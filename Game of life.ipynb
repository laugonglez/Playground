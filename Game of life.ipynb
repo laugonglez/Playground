{
 "cells": [
  {
   "cell_type": "markdown",
   "id": "8b80fd30",
   "metadata": {},
   "source": [
    "# Conway's Game of Life\n",
    "\n",
    "<br><br>\n",
    "This is an implementation of Conway's Game of Life (John Horton Conway, 1970), which is a classic cellular automaton. While it was initially a pen-and-paper game, computer simulations allow for interactive exploration and observation of different patterns and behaviors.\n",
    "<br><br>\n",
    "Overall, Conway's Game of Life serves as a fascinating example of emergent complexity from simple rules, and it has applications in various fields, including computer science, biology, and mathematics. Here's how it works:\n",
    "<br><br>\n",
    "#### Grid\n",
    "The game is played on a two-dimensional grid of cells, where each cell can be either alive (1) or dead (0).\n",
    "<br><br>\n",
    "#### Iterations\n",
    "The game progresses in discrete steps or generations. At each step, the grid's cells evolve simultaneously following a set of rules. The simulation can be started pressing the 'Start' button.\n",
    "<br><br>\n",
    "#### Rules\n",
    "- **Underpopulation:** A live cell with fewer than two live neighbors dies.\n",
    "- **Survival:** A live cell with two or three live neighbors survives.\n",
    "- **Overpopulation:** A live cell with more than three live neighbors dies.\n",
    "- **Reproduction:** A dead cell with exactly three live neighbors becomes alive.\n",
    "<br><br>\n",
    "\n",
    "#### Initial Configuration\n",
    "The game starts with an initial configuration of live and dead cells on the grid. Though it can be specified by the player, in this instantiation it is generated randomly. In the script, the probability that a given cell starts as alive or dead can be adjusted. \n",
    "<br><br>\n",
    "By default, 90% of cells will be dead and 10% alive at the beggining of the game. By pressing the 'Shuffle' button at any given moment, the game can be reset with a different distribution of initial dead and alive cells .\n",
    "<br><br>\n",
    "The number of horizontal and vertical cells as well as theri size can also be adjusted in the script. Increasing the total number of cells is not recommended as it may affect overall performance. By default, the program executes in a 40x40 grid (1600 cells) with 10x10 px cells.\n",
    "<br><br>\n",
    "#### Patterns\n",
    "Various interesting patterns emerge in the evolution of the grid:\n",
    "- **Stable configurations:** The pattern does not change between generations.\n",
    "- **Oscillators:** The pattern changes cyclically between generations.\n",
    "- **Gliders:** The pattern moves across the grid.\n",
    "- **Complex structures:** A combination of the other types of patterns."
   ]
  },
  {
   "cell_type": "markdown",
   "id": "4b36ecfb",
   "metadata": {},
   "source": [
    "## 0. Environment"
   ]
  },
  {
   "cell_type": "code",
   "execution_count": 1,
   "id": "f8d43ef1",
   "metadata": {},
   "outputs": [],
   "source": [
    "import tkinter as tk\n",
    "import numpy as np"
   ]
  },
  {
   "cell_type": "markdown",
   "id": "30d7f9d1",
   "metadata": {},
   "source": [
    "## 1. Program"
   ]
  },
  {
   "cell_type": "code",
   "execution_count": 2,
   "id": "dcdd75e9",
   "metadata": {},
   "outputs": [],
   "source": [
    "class GameOfLife:\n",
    "    def __init__(self, master, height=40, width=40, cell_size=10, p=0.9):\n",
    "        self.master = master\n",
    "        self.height = height\n",
    "        self.width = width\n",
    "        self.cell_size = cell_size\n",
    "        self.p = p\n",
    "        self.grid = np.random.choice(2, [height, width], p=[p, 1 - p])\n",
    "        self.nbs = np.zeros([3,3])\n",
    "        self.running = False\n",
    "\n",
    "        self.canvas = tk.Canvas(master, width=width*cell_size, height=height*cell_size, bg='black')\n",
    "        self.canvas.pack()\n",
    "\n",
    "        self.start_button = tk.Button(master, text='Start', command=self.start_stop)\n",
    "        self.start_button.pack()\n",
    "\n",
    "        self.shuffle_button = tk.Button(master, text='Shuffle', command=self.shuffle)\n",
    "        self.shuffle_button.pack()\n",
    "\n",
    "        self.draw_grid()\n",
    "    \n",
    "    def draw_grid(self):\n",
    "            self.canvas.delete('cells')\n",
    "            for i in range(self.height):\n",
    "                for j in range(self.width):\n",
    "                    x0, y0 = j * self.cell_size, i * self.cell_size\n",
    "                    x1, y1 = x0 + self.cell_size, y0 + self.cell_size\n",
    "                    if self.grid[i, j] == 0:\n",
    "                        self.canvas.create_rectangle(x0, y0, x1, y1, fill='black', outline='', tags='cells')\n",
    "                    else:\n",
    "                        self.canvas.create_rectangle(x0, y0, x1, y1, fill='white', outline='', tags='cells')\n",
    "    \n",
    "    def start_stop(self):\n",
    "        if self.running:\n",
    "            self.running = False\n",
    "            self.start_button.config(text='Start')\n",
    "        else:\n",
    "            self.running = True\n",
    "            self.start_button.config(text='Stop')\n",
    "            self.run()\n",
    "\n",
    "    def shuffle(self):\n",
    "        self.grid = np.random.choice(2, [self.height, self.width], p=[self.p, 1 - self.p])\n",
    "        self.draw_grid()\n",
    "\n",
    "    def run(self):\n",
    "        while self.running:\n",
    "            array0 = self.grid.copy()\n",
    "            for x in range(0, self.width):\n",
    "                for y in range(0, self.height):\n",
    "                    alive0 = array0[y, x]\n",
    "                    for i in range(-1, 2):\n",
    "                        for j in range(-1, 2):\n",
    "                            self.nbs[i+1, j+1] = array0[(y+i)%self.height, (x+j)%self.width]\n",
    "                    self.nbs[1, 1] = 0\n",
    "                    nb_sum = sum(sum(self.nbs))\n",
    "                    if alive0 == 1:\n",
    "                        if nb_sum > 1 and nb_sum < 4:\n",
    "                            alive1 = 1\n",
    "                        else:\n",
    "                            alive1 = 0\n",
    "                    else:\n",
    "                        if nb_sum == 3:\n",
    "                            alive1 = 1\n",
    "                        else:\n",
    "                            alive1 = 0\n",
    "\n",
    "                    self.grid[y, x] = alive1\n",
    "\n",
    "            self.draw_grid()\n",
    "            self.master.update()"
   ]
  },
  {
   "cell_type": "markdown",
   "id": "bdbfc9a5",
   "metadata": {},
   "source": [
    "## 2. Execution"
   ]
  },
  {
   "cell_type": "code",
   "execution_count": 3,
   "id": "952a16c5",
   "metadata": {},
   "outputs": [
    {
     "name": "stderr",
     "output_type": "stream",
     "text": [
      "Exception in Tkinter callback\n",
      "Traceback (most recent call last):\n",
      "  File \"C:\\Users\\pelud\\anaconda3\\envs\\py3_env\\lib\\tkinter\\__init__.py\", line 1892, in __call__\n",
      "    return self.func(*args)\n",
      "  File \"C:\\Users\\pelud\\AppData\\Local\\Temp\\ipykernel_7084\\1790893790.py\", line 41, in start_stop\n",
      "    self.run()\n",
      "  File \"C:\\Users\\pelud\\AppData\\Local\\Temp\\ipykernel_7084\\1790893790.py\", line 71, in run\n",
      "    self.draw_grid()\n",
      "  File \"C:\\Users\\pelud\\AppData\\Local\\Temp\\ipykernel_7084\\1790893790.py\", line 24, in draw_grid\n",
      "    self.canvas.delete('cells')\n",
      "  File \"C:\\Users\\pelud\\anaconda3\\envs\\py3_env\\lib\\tkinter\\__init__.py\", line 2823, in delete\n",
      "    self.tk.call((self._w, 'delete') + args)\n",
      "_tkinter.TclError: invalid command name \".!canvas\"\n"
     ]
    }
   ],
   "source": [
    "if __name__ == '__main__':\n",
    "    root = tk.Tk()\n",
    "    root.title(\"Conway's Game of Life\")\n",
    "    game = GameOfLife(root)\n",
    "    root.mainloop()"
   ]
  }
 ],
 "metadata": {
  "kernelspec": {
   "display_name": "Python [conda env:py3_env]",
   "language": "python",
   "name": "conda-env-py3_env-py"
  },
  "language_info": {
   "codemirror_mode": {
    "name": "ipython",
    "version": 3
   },
   "file_extension": ".py",
   "mimetype": "text/x-python",
   "name": "python",
   "nbconvert_exporter": "python",
   "pygments_lexer": "ipython3",
   "version": "3.8.13"
  }
 },
 "nbformat": 4,
 "nbformat_minor": 5
}
